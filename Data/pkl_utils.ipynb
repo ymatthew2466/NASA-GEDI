{
 "cells": [
  {
   "cell_type": "code",
   "execution_count": 2,
   "metadata": {},
   "outputs": [],
   "source": [
    "import pickle\n",
    "import pandas as pd\n",
    "import numpy as np\n",
    "import sys\n",
    "import warnings\n",
    "warnings.filterwarnings(\"ignore\", category=DeprecationWarning)\n",
    "\n",
    "with open('./pkls/Forest_cs237_2024_ISS.pkl', 'rb') as f:\n",
    "    data = pickle.load(f)"
   ]
  },
  {
   "cell_type": "code",
   "execution_count": null,
   "metadata": {},
   "outputs": [
    {
     "name": "stdout",
     "output_type": "stream",
     "text": [
      "dict_keys(['y', 'rh', 'prop', 'prop_rh'])\n"
     ]
    }
   ],
   "source": [
    "# print(data.keys())"
   ]
  },
  {
   "cell_type": "code",
   "execution_count": null,
   "metadata": {},
   "outputs": [
    {
     "name": "stdout",
     "output_type": "stream",
     "text": [
      "{'rx_sample_start_index': 48987161, 'rx_sample_count': 906, 'geolocation/latitude_instrument': 48.26542424989002, 'geolocation/longitude_instrument': -68.74843017853001, 'geolocation/altitude_instrument': 416270.7049981486, 'geolocation/elevation_lastbin': 113.0361720006913, 'geolocation/delta_time': 48836735.07370215, 'geolocation/elevation_bin0': 248.6171412235126, 'geolocation/longitude_bin0': -68.62703670599969, 'geolocation/latitude_bin0': 48.24047294089455, 'geolocation/digital_elevation_model': 181.38107299804688, 'geolocation/digital_elevation_model_srtm': 180.53506469726562, 'shot_number': 34060800300207697, 'quality_flag': 1, 'sensitivity': 0.9812255501747131, 'solar_elevation': -19.652982711791992, 'degrade_flag': 0, 'elev_lowestmode': 178.61691284179688, 'elev_highestreturn': 204.19752502441406, 'lat_lowestmode': 48.24046845673383, 'lon_lowestmode': -68.62701496006451, 'delta_time': 48836735.07370215, 'land_cover_data/leaf_off_flag': 0, 'land_cover_data/leaf_on_cycle': 1, 'land_cover_data/leaf_on_doy': 187, 'land_cover_data/leaf_off_doy': 229, 'land_cover_data/pft_class': 4, 'land_cover_data/region_class': 7, 'land_cover_data/landsat_treecover': 99.0, 'land_cover_data/modis_nonvegetated': 6.0, 'land_cover_data/modis_treecover': 48.0, 'land_cover_data/urban_proportion': 0, 'rh_id': 34498, 'surface_flag': True}\n"
     ]
    }
   ],
   "source": [
    "# print(data['prop_rh'][0])"
   ]
  },
  {
   "cell_type": "code",
   "execution_count": null,
   "metadata": {},
   "outputs": [
    {
     "name": "stdout",
     "output_type": "stream",
     "text": [
      "{'rx_sample_start_index': 48987161.0, 'rx_sample_count': 906.0, 'geolocation/latitude_bin0': 48.24047294089455, 'geolocation/longitude_bin0': -68.62703670599969, 'geolocation/elevation_bin0': 248.6171412235126, 'geolocation/elevation_lastbin': 113.0361720006913, 'geolocation/delta_time': 48836735.07370215, 'shot_number': 3.4060800300207696e+16, 'quality_flag': 1.0, 'sensitivity': 0.9812255501747131, 'solar_elevation': -19.652982711791992, 'degrade_flag': 0.0, 'elev_lowestmode': 178.61691284179688, 'elev_highestreturn': 204.19752502441406, 'land_cover_data/landsat_treecover': 99.0, 'land_cover_data/modis_nonvegetated': 6.0, 'land_cover_data/modis_treecover': 48.0, 'delta_time': 48836735.07370215, 'rh_0': -8.350000381469727, 'rh_25': 8.199999809265137, 'rh_50': 16.059999465942383, 'rh_75': 19.850000381469727, 'rh_98': 24.0, 'surface_flag': 1.0}\n"
     ]
    }
   ],
   "source": [
    "# print(data['prop'][0])"
   ]
  },
  {
   "cell_type": "code",
   "execution_count": null,
   "metadata": {},
   "outputs": [
    {
     "name": "stdout",
     "output_type": "stream",
     "text": [
      "{'rx_sample_start_index': 24023561.0, 'rx_sample_count': 751.0, 'geolocation/latitude_bin0': 50.858387399955035, 'geolocation/longitude_bin0': -70.61934845770976, 'geolocation/elevation_bin0': 535.8189384154975, 'geolocation/elevation_lastbin': 423.5182152763009, 'geolocation/delta_time': 44244256.25218655, 'shot_number': 2.5810500300218344e+16, 'quality_flag': 1.0, 'sensitivity': 0.9686372876167297, 'solar_elevation': -9.923745155334473, 'degrade_flag': 0.0, 'elev_lowestmode': 488.2782897949219, 'elev_highestreturn': 492.0965270996094, 'land_cover_data/landsat_treecover': 0.0, 'land_cover_data/modis_nonvegetated': 14.0, 'land_cover_data/modis_treecover': 13.0, 'delta_time': 44244256.25218655, 'rh_0': -4.900000095367432, 'rh_25': -1.2300000190734863, 'rh_50': -0.18000000715255737, 'rh_75': 0.7799999713897705, 'rh_98': 2.619999885559082, 'surface_flag': 3.0}\n"
     ]
    }
   ],
   "source": [
    "# print(data['prop'][1])"
   ]
  },
  {
   "cell_type": "code",
   "execution_count": 17,
   "metadata": {},
   "outputs": [],
   "source": [
    "# print(data['prop'][2])"
   ]
  },
  {
   "cell_type": "code",
   "execution_count": 59,
   "metadata": {},
   "outputs": [
    {
     "name": "stdout",
     "output_type": "stream",
     "text": [
      "instrument - lowestmode\n",
      "threshold: 0.001\n",
      "orthogonal waveforms: 15\n"
     ]
    }
   ],
   "source": [
    "similarity_threshold = 0.001\n",
    "\n",
    "print(f'instrument - lowestmode\\nthreshold: {similarity_threshold}')\n",
    "\n",
    "count_orthogonal = 0\n",
    "for i in range(len(data['prop_rh'])):\n",
    "    prop_rh = data['prop_rh'][i]\n",
    "\n",
    "    instrument_lat = prop_rh['geolocation/latitude_instrument']\n",
    "    instrument_lon = prop_rh['geolocation/longitude_instrument']\n",
    "        \n",
    "    lowest_lat = prop_rh['lat_lowestmode']\n",
    "    lowest_lon = prop_rh['lon_lowestmode']\n",
    "\n",
    "    # print(f'iter: {i}')\n",
    "    if (abs(instrument_lat - lowest_lat) < similarity_threshold and abs(instrument_lon - lowest_lon) < similarity_threshold):\n",
    "        # print('similar')\n",
    "        count_orthogonal += 1\n",
    "\n",
    "print(f'orthogonal waveforms: {count_orthogonal}')\n"
   ]
  },
  {
   "cell_type": "code",
   "execution_count": 58,
   "metadata": {},
   "outputs": [
    {
     "name": "stdout",
     "output_type": "stream",
     "text": [
      "bin0 - lowestmode\n",
      "threshold: 1e-07\n",
      "orthogonal waveforms: 14\n"
     ]
    }
   ],
   "source": [
    "similarity_threshold = 0.0000001\n",
    "\n",
    "print(f'bin0 - lowestmode\\nthreshold: {similarity_threshold}')\n",
    "\n",
    "count_orthogonal = 0\n",
    "for i in range(len(data['prop_rh'])):\n",
    "    prop_rh = data['prop_rh'][i]\n",
    "\n",
    "    bin0_lat = prop_rh['geolocation/latitude_bin0']\n",
    "    bin0_long = prop_rh['geolocation/longitude_bin0']\n",
    "        \n",
    "    lowest_lat = prop_rh['lat_lowestmode']\n",
    "    lowest_lon = prop_rh['lon_lowestmode']\n",
    "\n",
    "    # print(f'iter: {i}')\n",
    "    if ( abs(bin0_lat - lowest_lat) < similarity_threshold and abs(bin0_long - lowest_lon) < similarity_threshold):\n",
    "        # print('similar')\n",
    "        count_orthogonal += 1\n",
    "\n",
    "print(f'orthogonal waveforms: {count_orthogonal}')\n"
   ]
  }
 ],
 "metadata": {
  "kernelspec": {
   "display_name": "Python 3",
   "language": "python",
   "name": "python3"
  },
  "language_info": {
   "codemirror_mode": {
    "name": "ipython",
    "version": 3
   },
   "file_extension": ".py",
   "mimetype": "text/x-python",
   "name": "python",
   "nbconvert_exporter": "python",
   "pygments_lexer": "ipython3",
   "version": "3.9.20"
  }
 },
 "nbformat": 4,
 "nbformat_minor": 2
}
